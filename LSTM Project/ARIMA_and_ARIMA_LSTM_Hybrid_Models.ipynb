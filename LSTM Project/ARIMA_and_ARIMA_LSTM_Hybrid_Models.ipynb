{
  "nbformat": 4,
  "nbformat_minor": 0,
  "metadata": {
    "colab": {
      "name": "ARIMA and ARIMA LSTM Hybrid Models.ipynb",
      "provenance": [],
      "collapsed_sections": []
    },
    "kernelspec": {
      "name": "python3",
      "display_name": "Python 3"
    },
    "accelerator": "GPU"
  },
  "cells": [
    {
      "cell_type": "code",
      "metadata": {
        "id": "9crYS6EUej8a",
        "colab_type": "code",
        "outputId": "81112fa3-7ca0-46da-d1f2-21f691ff44c0",
        "colab": {
          "base_uri": "https://localhost:8080/",
          "height": 235
        }
      },
      "source": [
        "!pip install pmdarima\n",
        "import pandas as pd\n",
        "import numpy as np\n",
        "import time\n",
        "import math\n",
        "import matplotlib.pyplot as plt\n",
        "import seaborn as sns\n",
        "\n",
        "from keras.models import Sequential\n",
        "from keras.layers import LSTM\n",
        "from keras.layers import Dense\n",
        "from keras.layers import Flatten\n",
        "from keras.layers import TimeDistributed\n",
        "from keras.layers.convolutional import Conv1D\n",
        "from keras.layers.convolutional import MaxPooling1D\n",
        "from keras.optimizers import Adam\n",
        "from pmdarima.arima import auto_arima"
      ],
      "execution_count": 0,
      "outputs": [
        {
          "output_type": "stream",
          "text": [
            "Requirement already satisfied: pmdarima in /usr/local/lib/python3.6/dist-packages (1.5.1)\n",
            "Requirement already satisfied: Cython>=0.29 in /usr/local/lib/python3.6/dist-packages (from pmdarima) (0.29.14)\n",
            "Requirement already satisfied: statsmodels>=0.10.0 in /usr/local/lib/python3.6/dist-packages (from pmdarima) (0.10.2)\n",
            "Requirement already satisfied: numpy>=1.16 in /usr/local/lib/python3.6/dist-packages (from pmdarima) (1.17.4)\n",
            "Requirement already satisfied: scipy>=1.3 in /usr/local/lib/python3.6/dist-packages (from pmdarima) (1.3.3)\n",
            "Requirement already satisfied: joblib>=0.11 in /usr/local/lib/python3.6/dist-packages (from pmdarima) (0.14.1)\n",
            "Requirement already satisfied: pandas>=0.19 in /usr/local/lib/python3.6/dist-packages (from pmdarima) (0.25.3)\n",
            "Requirement already satisfied: pathlib in /usr/local/lib/python3.6/dist-packages (from pmdarima) (1.0.1)\n",
            "Requirement already satisfied: six>=1.5 in /usr/local/lib/python3.6/dist-packages (from pmdarima) (1.12.0)\n",
            "Requirement already satisfied: scikit-learn>=0.19 in /usr/local/lib/python3.6/dist-packages (from pmdarima) (0.21.3)\n",
            "Requirement already satisfied: patsy>=0.4.0 in /usr/local/lib/python3.6/dist-packages (from statsmodels>=0.10.0->pmdarima) (0.5.1)\n",
            "Requirement already satisfied: python-dateutil>=2.6.1 in /usr/local/lib/python3.6/dist-packages (from pandas>=0.19->pmdarima) (2.6.1)\n",
            "Requirement already satisfied: pytz>=2017.2 in /usr/local/lib/python3.6/dist-packages (from pandas>=0.19->pmdarima) (2018.9)\n"
          ],
          "name": "stdout"
        }
      ]
    },
    {
      "cell_type": "markdown",
      "metadata": {
        "id": "Amwr-9Djk6Eq",
        "colab_type": "text"
      },
      "source": [
        "Load and clean data"
      ]
    },
    {
      "cell_type": "code",
      "metadata": {
        "id": "rBKSPKlBgB4G",
        "colab_type": "code",
        "colab": {}
      },
      "source": [
        "currency_data = pd.read_csv('https://raw.githubusercontent.com/michael-northrup/cs_group_project/master/DEXUSEU.csv')\n",
        "flight_data = pd.read_csv('https://raw.githubusercontent.com/michael-northrup/cs_group_project/master/flight_data.csv')\n",
        "\n",
        "currency_data.loc[currency_data['DEXUSEU']=='.', 'DEXUSEU'] = np.nan\n",
        "currency_data['DEXUSEU'] = currency_data['DEXUSEU'].astype(float).interpolate()\n",
        "currency_data['Date'] = pd.to_datetime(currency_data['Date'], format='%m/%d/%Y')\n",
        "currency_data.set_index(['Date'],inplace=True)\n",
        "\n",
        "flight_data['Total'] = flight_data['Total'].apply(lambda x: int(x.replace(',','')))\n",
        "flight_data['Date'] =  pd.to_datetime(flight_data['Date'], format='%m/%d/%Y')\n",
        "flight_data.set_index(['Date'],inplace=True)\n"
      ],
      "execution_count": 0,
      "outputs": []
    },
    {
      "cell_type": "markdown",
      "metadata": {
        "id": "PIoThOoVpAqi",
        "colab_type": "text"
      },
      "source": [
        "Split train/test"
      ]
    },
    {
      "cell_type": "code",
      "metadata": {
        "id": "-SOJA4uLpBOV",
        "colab_type": "code",
        "colab": {}
      },
      "source": [
        "def train_test_split(dataset, percent):\n",
        "  train_size = int(len(dataset) * 0.67)\n",
        "  test_size = len(dataset) - train_size\n",
        "  return dataset[:train_size], dataset[train_size:]\n",
        "\n",
        "c_train, c_test = train_test_split(currency_data, .67)\n",
        "f_train, f_test = train_test_split(flight_data, .67)"
      ],
      "execution_count": 0,
      "outputs": []
    },
    {
      "cell_type": "code",
      "metadata": {
        "id": "rJHM3mKFz8Bd",
        "colab_type": "code",
        "outputId": "1e0c1a10-5f15-4153-a42d-e3f5a34fbc57",
        "colab": {
          "base_uri": "https://localhost:8080/",
          "height": 118
        }
      },
      "source": [
        "c_model = auto_arima(c_train, start_p=1, start_q=1,\n",
        "                           max_p=3, max_q=3, \n",
        "                           start_P=0, seasonal=False,\n",
        "                           d=1, D=1, trace=True,\n",
        "                           error_action='ignore',  \n",
        "                           suppress_warnings=True, \n",
        "                           stepwise=True)"
      ],
      "execution_count": 0,
      "outputs": [
        {
          "output_type": "stream",
          "text": [
            "Fit ARIMA: order=(1, 1, 1) seasonal_order=(0, 0, 0, 0); AIC=-25127.668, BIC=-25102.854, Fit time=1.539 seconds\n",
            "Fit ARIMA: order=(0, 1, 0) seasonal_order=(0, 0, 0, 0); AIC=-25129.164, BIC=-25116.757, Fit time=0.368 seconds\n",
            "Fit ARIMA: order=(1, 1, 0) seasonal_order=(0, 0, 0, 0); AIC=-25129.387, BIC=-25110.777, Fit time=0.206 seconds\n",
            "Fit ARIMA: order=(0, 1, 1) seasonal_order=(0, 0, 0, 0); AIC=-25129.453, BIC=-25110.843, Fit time=0.823 seconds\n",
            "Fit ARIMA: order=(0, 1, 0) seasonal_order=(0, 0, 0, 0); AIC=-25131.087, BIC=-25124.883, Fit time=0.194 seconds\n",
            "Total fit time: 3.139 seconds\n"
          ],
          "name": "stdout"
        }
      ]
    },
    {
      "cell_type": "code",
      "metadata": {
        "id": "C1nVuzp-03kV",
        "colab_type": "code",
        "colab": {}
      },
      "source": [
        "c_predict = c_test.copy()\n",
        "\n",
        "c_predict['DEXUSEU'] = c_model.predict(n_periods=len(c_predict))\n",
        "c_resid = c_model.resid()\n",
        "c_train_pred = c_train.DEXUSEU + c_resid\n",
        "\n",
        "full_pred_c = c_train_pred.append(c_predict['DEXUSEU'])\n",
        "full_residuals_c = full_pred_c- currency_data.DEXUSEU\n",
        "\n",
        "train_score_c = (abs(c_resid)/c_train.DEXUSEU).mean()\n",
        "test_score_c = (abs(c_test - c_predict)/c_test).mean()"
      ],
      "execution_count": 0,
      "outputs": []
    },
    {
      "cell_type": "code",
      "metadata": {
        "id": "xNLxW41P03hK",
        "colab_type": "code",
        "outputId": "04c55176-3d0c-43af-c7c2-d169349c4372",
        "colab": {
          "base_uri": "https://localhost:8080/",
          "height": 347
        }
      },
      "source": [
        "from google.colab import files\n",
        "\n",
        "fig, ax = plt.subplots()\n",
        "currency_data.DEXUSEU.plot(ax=ax)\n",
        "c_train_pred.plot(ax=ax)\n",
        "c_predict.plot(ax=ax)\n",
        "sns.despine()\n",
        "ax.get_legend().remove()\n",
        "plt.title('EURO/US Dollar Exchange Rate')\n",
        "fig.tight_layout()\n",
        "plt.savefig('forex_ARIMA.png')\n",
        "files.download(\"forex_ARIMA.png\") \n",
        "print('Train Score:', train_score_c,)\n",
        "print('Test Score:', test_score_c,)"
      ],
      "execution_count": 0,
      "outputs": [
        {
          "output_type": "stream",
          "text": [
            "Train Score: 0.004972970655089201\n",
            "Test Score: DEXUSEU    0.123929\n",
            "dtype: float64\n"
          ],
          "name": "stdout"
        },
        {
          "output_type": "display_data",
          "data": {
            "image/png": "[encoded data removed]",
            "text/plain": [
              "<Figure size 432x288 with 1 Axes>"
            ]
          },
          "metadata": {
            "tags": []
          }
        }
      ]
    },
    {
      "cell_type": "code",
      "metadata": {
        "id": "vP81UU0X1JUS",
        "colab_type": "code",
        "outputId": "e7a6f6d5-3e54-4848-a50c-d2d65c60c81f",
        "colab": {
          "base_uri": "https://localhost:8080/",
          "height": 1000
        }
      },
      "source": [
        "f_model = auto_arima(f_train, start_p=1, start_q=1,\n",
        "                           max_p=3, max_q=3, m=12,\n",
        "                           start_P=0, seasonal=True,\n",
        "                           d=1, D=1, trace=True,\n",
        "                           error_action='ignore',  \n",
        "                           suppress_warnings=True, \n",
        "                           stepwise=True)"
      ],
      "execution_count": 0,
      "outputs": [
        {
          "output_type": "stream",
          "text": [
            "Fit ARIMA: order=(1, 1, 1) seasonal_order=(0, 1, 1, 12); AIC=3890.127, BIC=3904.188, Fit time=1.098 seconds\n",
            "Fit ARIMA: order=(0, 1, 0) seasonal_order=(0, 1, 0, 12); AIC=3893.286, BIC=3898.910, Fit time=0.026 seconds\n",
            "Fit ARIMA: order=(1, 1, 0) seasonal_order=(1, 1, 0, 12); AIC=3891.574, BIC=3902.823, Fit time=0.490 seconds\n",
            "Fit ARIMA: order=(0, 1, 1) seasonal_order=(0, 1, 1, 12); AIC=3890.103, BIC=3901.352, Fit time=0.337 seconds\n",
            "Fit ARIMA: order=(0, 1, 0) seasonal_order=(0, 1, 0, 12); AIC=3891.930, BIC=3894.742, Fit time=0.016 seconds\n",
            "Fit ARIMA: order=(0, 1, 1) seasonal_order=(0, 1, 0, 12); AIC=3892.496, BIC=3900.933, Fit time=0.075 seconds\n",
            "Fit ARIMA: order=(0, 1, 1) seasonal_order=(1, 1, 1, 12); AIC=3889.443, BIC=3903.504, Fit time=1.386 seconds\n",
            "Fit ARIMA: order=(0, 1, 1) seasonal_order=(1, 1, 0, 12); AIC=3889.997, BIC=3901.246, Fit time=0.208 seconds\n",
            "Fit ARIMA: order=(0, 1, 1) seasonal_order=(2, 1, 1, 12); AIC=3891.342, BIC=3908.215, Fit time=1.845 seconds\n",
            "Fit ARIMA: order=(0, 1, 1) seasonal_order=(1, 1, 2, 12); AIC=3891.328, BIC=3908.201, Fit time=2.278 seconds\n",
            "Fit ARIMA: order=(0, 1, 1) seasonal_order=(0, 1, 2, 12); AIC=3891.999, BIC=3906.060, Fit time=1.703 seconds\n",
            "Fit ARIMA: order=(0, 1, 1) seasonal_order=(2, 1, 0, 12); AIC=3891.743, BIC=3905.804, Fit time=0.662 seconds\n",
            "Fit ARIMA: order=(0, 1, 1) seasonal_order=(2, 1, 2, 12); AIC=3888.982, BIC=3908.668, Fit time=6.070 seconds\n",
            "Fit ARIMA: order=(0, 1, 0) seasonal_order=(2, 1, 2, 12); AIC=3890.429, BIC=3907.302, Fit time=5.004 seconds\n",
            "Fit ARIMA: order=(1, 1, 1) seasonal_order=(2, 1, 2, 12); AIC=3889.625, BIC=3912.123, Fit time=6.859 seconds\n",
            "Near non-invertible roots for order (1, 1, 1)(2, 1, 2, 12); setting score to inf (at least one inverse root too close to the border of the unit circle: 0.991)\n",
            "Fit ARIMA: order=(0, 1, 2) seasonal_order=(2, 1, 2, 12); AIC=3886.561, BIC=3909.059, Fit time=6.334 seconds\n",
            "Fit ARIMA: order=(0, 1, 2) seasonal_order=(1, 1, 2, 12); AIC=3888.033, BIC=3907.719, Fit time=2.227 seconds\n",
            "Fit ARIMA: order=(0, 1, 2) seasonal_order=(2, 1, 1, 12); AIC=3888.045, BIC=3907.730, Fit time=1.947 seconds\n",
            "Fit ARIMA: order=(0, 1, 2) seasonal_order=(1, 1, 1, 12); AIC=3886.152, BIC=3903.025, Fit time=1.607 seconds\n",
            "Fit ARIMA: order=(0, 1, 2) seasonal_order=(0, 1, 1, 12); AIC=3887.288, BIC=3901.349, Fit time=0.404 seconds\n",
            "Fit ARIMA: order=(0, 1, 2) seasonal_order=(1, 1, 0, 12); AIC=3887.150, BIC=3901.211, Fit time=0.275 seconds\n",
            "Fit ARIMA: order=(0, 1, 2) seasonal_order=(0, 1, 0, 12); AIC=3890.090, BIC=3901.339, Fit time=0.091 seconds\n",
            "Fit ARIMA: order=(0, 1, 2) seasonal_order=(0, 1, 2, 12); AIC=3889.176, BIC=3906.049, Fit time=1.056 seconds\n",
            "Fit ARIMA: order=(0, 1, 2) seasonal_order=(2, 1, 0, 12); AIC=3888.885, BIC=3905.758, Fit time=0.841 seconds\n",
            "Fit ARIMA: order=(1, 1, 2) seasonal_order=(1, 1, 1, 12); AIC=3889.250, BIC=3908.936, Fit time=2.257 seconds\n",
            "Fit ARIMA: order=(0, 1, 3) seasonal_order=(1, 1, 1, 12); AIC=3885.994, BIC=3905.679, Fit time=1.335 seconds\n",
            "Fit ARIMA: order=(0, 1, 3) seasonal_order=(0, 1, 1, 12); AIC=3887.195, BIC=3904.068, Fit time=0.566 seconds\n",
            "Fit ARIMA: order=(0, 1, 3) seasonal_order=(1, 1, 0, 12); AIC=3887.057, BIC=3903.930, Fit time=0.337 seconds\n",
            "Fit ARIMA: order=(0, 1, 3) seasonal_order=(2, 1, 1, 12); AIC=3887.980, BIC=3910.477, Fit time=2.209 seconds\n",
            "Fit ARIMA: order=(0, 1, 3) seasonal_order=(1, 1, 2, 12); AIC=3887.978, BIC=3910.475, Fit time=4.321 seconds\n",
            "Fit ARIMA: order=(0, 1, 3) seasonal_order=(0, 1, 0, 12); AIC=3889.191, BIC=3903.252, Fit time=0.140 seconds\n",
            "Fit ARIMA: order=(0, 1, 3) seasonal_order=(0, 1, 2, 12); AIC=3888.884, BIC=3908.569, Fit time=1.529 seconds\n",
            "Fit ARIMA: order=(0, 1, 3) seasonal_order=(2, 1, 0, 12); AIC=3888.572, BIC=3908.257, Fit time=0.968 seconds\n",
            "Fit ARIMA: order=(0, 1, 3) seasonal_order=(2, 1, 2, 12); AIC=3889.995, BIC=3915.305, Fit time=4.882 seconds\n",
            "Fit ARIMA: order=(1, 1, 3) seasonal_order=(1, 1, 1, 12); AIC=3885.036, BIC=3907.534, Fit time=3.680 seconds\n",
            "Fit ARIMA: order=(1, 1, 3) seasonal_order=(0, 1, 1, 12); AIC=3886.426, BIC=3906.111, Fit time=2.238 seconds\n",
            "Fit ARIMA: order=(1, 1, 3) seasonal_order=(1, 1, 0, 12); AIC=3886.251, BIC=3905.937, Fit time=1.983 seconds\n",
            "Fit ARIMA: order=(1, 1, 3) seasonal_order=(2, 1, 1, 12); AIC=3887.744, BIC=3913.054, Fit time=6.702 seconds\n",
            "Near non-invertible roots for order (1, 1, 3)(2, 1, 1, 12); setting score to inf (at least one inverse root too close to the border of the unit circle: 0.995)\n",
            "Fit ARIMA: order=(1, 1, 3) seasonal_order=(1, 1, 2, 12); AIC=3887.015, BIC=3912.324, Fit time=8.072 seconds\n",
            "Fit ARIMA: order=(1, 1, 3) seasonal_order=(0, 1, 0, 12); AIC=3895.793, BIC=3912.666, Fit time=0.382 seconds\n",
            "Fit ARIMA: order=(1, 1, 3) seasonal_order=(0, 1, 2, 12); AIC=3888.153, BIC=3910.650, Fit time=5.234 seconds\n",
            "Fit ARIMA: order=(1, 1, 3) seasonal_order=(2, 1, 0, 12); AIC=3887.824, BIC=3910.322, Fit time=4.108 seconds\n",
            "Fit ARIMA: order=(1, 1, 3) seasonal_order=(2, 1, 2, 12); AIC=3891.169, BIC=3919.291, Fit time=7.724 seconds\n",
            "Near non-invertible roots for order (1, 1, 3)(2, 1, 2, 12); setting score to inf (at least one inverse root too close to the border of the unit circle: 0.998)\n",
            "Fit ARIMA: order=(2, 1, 3) seasonal_order=(1, 1, 1, 12); AIC=3858.417, BIC=3883.727, Fit time=4.785 seconds\n",
            "Fit ARIMA: order=(2, 1, 3) seasonal_order=(0, 1, 1, 12); AIC=3860.825, BIC=3883.323, Fit time=3.489 seconds\n",
            "Fit ARIMA: order=(2, 1, 3) seasonal_order=(1, 1, 0, 12); AIC=3860.662, BIC=3883.160, Fit time=3.349 seconds\n",
            "Fit ARIMA: order=(2, 1, 3) seasonal_order=(2, 1, 1, 12); AIC=3881.907, BIC=3910.029, Fit time=8.112 seconds\n",
            "Near non-invertible roots for order (2, 1, 3)(2, 1, 1, 12); setting score to inf (at least one inverse root too close to the border of the unit circle: 0.998)\n",
            "Fit ARIMA: order=(2, 1, 3) seasonal_order=(1, 1, 2, 12); AIC=3882.134, BIC=3910.256, Fit time=7.592 seconds\n",
            "Near non-invertible roots for order (2, 1, 3)(1, 1, 2, 12); setting score to inf (at least one inverse root too close to the border of the unit circle: 0.997)\n",
            "Fit ARIMA: order=(2, 1, 3) seasonal_order=(0, 1, 0, 12); AIC=3861.779, BIC=3881.464, Fit time=1.254 seconds\n",
            "Fit ARIMA: order=(2, 1, 3) seasonal_order=(0, 1, 2, 12); AIC=3861.645, BIC=3886.954, Fit time=7.506 seconds\n",
            "Fit ARIMA: order=(2, 1, 3) seasonal_order=(2, 1, 0, 12); AIC=3861.172, BIC=3886.482, Fit time=7.234 seconds\n",
            "Fit ARIMA: order=(2, 1, 3) seasonal_order=(2, 1, 2, 12); AIC=3866.315, BIC=3897.249, Fit time=8.967 seconds\n",
            "Near non-invertible roots for order (2, 1, 3)(2, 1, 2, 12); setting score to inf (at least one inverse root too close to the border of the unit circle: 1.000)\n",
            "Fit ARIMA: order=(2, 1, 2) seasonal_order=(1, 1, 1, 12); AIC=3856.507, BIC=3879.005, Fit time=3.113 seconds\n",
            "Fit ARIMA: order=(2, 1, 2) seasonal_order=(0, 1, 1, 12); AIC=3859.274, BIC=3878.960, Fit time=2.186 seconds\n",
            "Fit ARIMA: order=(2, 1, 2) seasonal_order=(1, 1, 0, 12); AIC=3859.093, BIC=3878.778, Fit time=2.356 seconds\n",
            "Fit ARIMA: order=(2, 1, 2) seasonal_order=(2, 1, 1, 12); AIC=3858.489, BIC=3883.799, Fit time=7.426 seconds\n",
            "Fit ARIMA: order=(2, 1, 2) seasonal_order=(1, 1, 2, 12); AIC=3858.171, BIC=3883.481, Fit time=6.694 seconds\n",
            "Fit ARIMA: order=(2, 1, 2) seasonal_order=(0, 1, 0, 12); AIC=3860.665, BIC=3877.538, Fit time=0.830 seconds\n",
            "Fit ARIMA: order=(2, 1, 2) seasonal_order=(0, 1, 2, 12); AIC=3860.218, BIC=3882.715, Fit time=5.827 seconds\n",
            "Fit ARIMA: order=(2, 1, 2) seasonal_order=(2, 1, 0, 12); AIC=3859.833, BIC=3882.331, Fit time=6.179 seconds\n",
            "Fit ARIMA: order=(2, 1, 2) seasonal_order=(2, 1, 2, 12); AIC=3861.896, BIC=3890.018, Fit time=7.285 seconds\n",
            "Near non-invertible roots for order (2, 1, 2)(2, 1, 2, 12); setting score to inf (at least one inverse root too close to the border of the unit circle: 0.997)\n",
            "Fit ARIMA: order=(2, 1, 1) seasonal_order=(1, 1, 1, 12); AIC=3894.929, BIC=3914.614, Fit time=2.068 seconds\n",
            "Fit ARIMA: order=(3, 1, 2) seasonal_order=(1, 1, 1, 12); AIC=3885.358, BIC=3910.668, Fit time=2.597 seconds\n",
            "Fit ARIMA: order=(1, 1, 1) seasonal_order=(1, 1, 1, 12); AIC=3888.946, BIC=3905.819, Fit time=1.320 seconds\n",
            "Fit ARIMA: order=(3, 1, 1) seasonal_order=(1, 1, 1, 12); AIC=3885.442, BIC=3907.940, Fit time=2.583 seconds\n",
            "Fit ARIMA: order=(3, 1, 3) seasonal_order=(1, 1, 1, 12); AIC=3888.344, BIC=3916.466, Fit time=3.876 seconds\n",
            "Near non-invertible roots for order (3, 1, 3)(1, 1, 1, 12); setting score to inf (at least one inverse root too close to the border of the unit circle: 0.999)\n",
            "Total fit time: 208.213 seconds\n"
          ],
          "name": "stdout"
        }
      ]
    },
    {
      "cell_type": "code",
      "metadata": {
        "id": "QV7rrtgB0RBK",
        "colab_type": "code",
        "colab": {}
      },
      "source": [
        "f_predict = f_test.copy()\n",
        "\n",
        "f_predict['Total'] = f_model.predict(n_periods=len(f_predict))\n",
        "f_resid = f_model.resid()\n",
        "f_train_pred = f_train.Total + f_resid\n",
        "full_pred = f_train_pred.append(f_predict['Total'])\n",
        "full_residuals = full_pred- flight_data.Total\n",
        "\n",
        "train_score_f = (abs(f_resid)/f_train.Total).mean()\n",
        "test_score_f = (abs(f_test - f_predict)/f_test).mean()"
      ],
      "execution_count": 0,
      "outputs": []
    },
    {
      "cell_type": "code",
      "metadata": {
        "id": "l1pw68O00vJb",
        "colab_type": "code",
        "outputId": "78b1569b-724a-4f38-a866-6510ce11b528",
        "colab": {
          "base_uri": "https://localhost:8080/",
          "height": 347
        }
      },
      "source": [
        "from google.colab import files\n",
        "\n",
        "fig, ax = plt.subplots()\n",
        "flight_data.Total.plot(ax=ax)\n",
        "f_train_pred.plot(ax=ax)\n",
        "f_predict.plot(ax=ax)\n",
        "sns.despine()\n",
        "ax.get_legend().remove()\n",
        "plt.title('Flights')\n",
        "fig.tight_layout()\n",
        "plt.savefig('flight_ARIMA.png')\n",
        "files.download(\"flight_ARIMA.png\") \n",
        "print('Train Score:', train_score_f)\n",
        "print('Test Score:', test_score_f)"
      ],
      "execution_count": 0,
      "outputs": [
        {
          "output_type": "stream",
          "text": [
            "Train Score: 0.04291904254145557\n",
            "Test Score: Total    0.046977\n",
            "dtype: float64\n"
          ],
          "name": "stdout"
        },
        {
          "output_type": "display_data",
          "data": {
            "image/png": "[encoded data removed]",
            "text/plain": [
              "<Figure size 432x288 with 1 Axes>"
            ]
          },
          "metadata": {
            "tags": []
          }
        }
      ]
    },
    {
      "cell_type": "markdown",
      "metadata": {
        "id": "GeEqiXpjq87j",
        "colab_type": "text"
      },
      "source": [
        "LSTM Boosting\n",
        "\n",
        "The concept that is going to be applied is using an LSTM model to boost the ARIMA by modeling the residuals. The reasoning behind this is that the arima models the linear/seasonal trends and the LSTM models the non-linear trends."
      ]
    },
    {
      "cell_type": "code",
      "metadata": {
        "id": "anOCdUL3q7xw",
        "colab_type": "code",
        "outputId": "7d8be86b-d79f-4784-c7d5-a4ccc3954e70",
        "colab": {
          "base_uri": "https://localhost:8080/",
          "height": 34
        }
      },
      "source": [
        "def split_sequence(sequence, n_steps):\n",
        "\tX, y = list(), list()\n",
        "\tfor i in range(len(sequence)):\n",
        "\t\tend_ix = i + n_steps\n",
        "\t\tif end_ix > len(sequence)-1:\n",
        "\t\t\tbreak\n",
        "\t\tseq_x, seq_y = sequence[i:end_ix], sequence[end_ix]\n",
        "\t\tX.append(seq_x)\n",
        "\t\ty.append(seq_y)\n",
        "\treturn np.array(X), np.array(y)\n",
        " \n",
        "raw_seq = f_resid\n",
        "n_steps = 4\n",
        "\n",
        "X, y = split_sequence(raw_seq, n_steps)\n",
        "n_features = 1\n",
        "n_seq = 2\n",
        "n_steps = 2\n",
        "X = X.reshape((X.shape[0], n_seq, n_steps, n_features))\n",
        "\n",
        "model = Sequential()\n",
        "model.add(TimeDistributed(Conv1D(filters=64, kernel_size=1, activation='relu'), input_shape=(None, n_steps, n_features)))\n",
        "model.add(TimeDistributed(MaxPooling1D(pool_size=2)))\n",
        "model.add(TimeDistributed(Flatten()))\n",
        "model.add(LSTM(50, activation='relu'))\n",
        "model.add(Dense(1))\n",
        "model.compile(optimizer='rmsprop', loss='mse')\n",
        "\n",
        "model.fit(X, y, epochs=500, verbose=0)"
      ],
      "execution_count": 0,
      "outputs": [
        {
          "output_type": "execute_result",
          "data": {
            "text/plain": [
              "<keras.callbacks.History at 0x7f482b20a898>"
            ]
          },
          "metadata": {
            "tags": []
          },
          "execution_count": 81
        }
      ]
    },
    {
      "cell_type": "code",
      "metadata": {
        "id": "MIKkR30DFphT",
        "colab_type": "code",
        "colab": {}
      },
      "source": [
        "x_input = np.array(full_residuals[0:4])\n",
        "predict = np.array(full_residuals[0:4])\n",
        "for i in range(len(full_residuals)-4):\n",
        "  x_input_clean = x_input.reshape((1, n_seq, n_steps, n_features))\n",
        "  prediction = model.predict(x_input_clean, verbose=0)\n",
        "  predict = np.append(predict,prediction[0][0])\n",
        "  x_input = np.append(x_input[1:],[full_residuals[i+4]])\n",
        "boosted_predict = full_pred.copy()+predict"
      ],
      "execution_count": 0,
      "outputs": []
    },
    {
      "cell_type": "code",
      "metadata": {
        "id": "0Cb07vznENXm",
        "colab_type": "code",
        "outputId": "720e3a17-3989-42d1-d2ba-b2c315a994bd",
        "colab": {
          "base_uri": "https://localhost:8080/",
          "height": 297
        }
      },
      "source": [
        "from google.colab import files\n",
        "\n",
        "fig, ax = plt.subplots()\n",
        "flight_data.Total.plot(ax=ax)\n",
        "boosted_predict[:-67].plot(ax=ax)\n",
        "boosted_predict[-67:].plot(ax=ax)\n",
        "\n",
        "sns.despine()\n",
        "plt.title('Flights')\n",
        "fig.tight_layout()\n",
        "plt.savefig('flight_ARIMA_LSTM.png')"
      ],
      "execution_count": 0,
      "outputs": [
        {
          "output_type": "display_data",
          "data": {
            "image/png": "[encoded data removed]",
            "text/plain": [
              "<Figure size 432x288 with 1 Axes>"
            ]
          },
          "metadata": {
            "tags": []
          }
        }
      ]
    },
    {
      "cell_type": "code",
      "metadata": {
        "id": "KZoc4UhQWD9j",
        "colab_type": "code",
        "outputId": "d8314fd9-cd31-474c-d1c8-82c4dfe190b4",
        "colab": {
          "base_uri": "https://localhost:8080/",
          "height": 84
        }
      },
      "source": [
        "files.download(\"flight_ARIMA_LSTM.png\") \n",
        "\n",
        "print('Train ARIMA Square Error:')\n",
        "arima_sqr_error = (full_pred-flight_data.Total)**2\n",
        "print(math.sqrt(arima_sqr_error[:-67].mean()))\n",
        "print('Train LSTM Boosted ARIMA Square Error:')\n",
        "boosted_error = (boosted_predict-flight_data.Total)**2\n",
        "print(math.sqrt(boosted_error[:-67].mean()))"
      ],
      "execution_count": 0,
      "outputs": [
        {
          "output_type": "stream",
          "text": [
            "Train ARIMA Square Error:\n",
            "7720380.822710372\n",
            "Train LSTM Boosted ARIMA Square Error:\n",
            "14581259.353544133\n"
          ],
          "name": "stdout"
        }
      ]
    },
    {
      "cell_type": "code",
      "metadata": {
        "id": "WexgC81zXH5K",
        "colab_type": "code",
        "outputId": "c02adc07-be77-43c4-95ae-f704d74193d7",
        "colab": {
          "base_uri": "https://localhost:8080/",
          "height": 84
        }
      },
      "source": [
        "print('Train ARIMA Error Percent:')\n",
        "arima_sqr_error = abs(full_pred-flight_data.Total)/flight_data.Total\n",
        "print(arima_sqr_error[:-67].mean())\n",
        "print('Train LSTM Boosted ARIMA Error Percent:')\n",
        "boosted_error = abs(boosted_predict-flight_data.Total)/flight_data.Total\n",
        "print(boosted_error[:-67].mean())"
      ],
      "execution_count": 0,
      "outputs": [
        {
          "output_type": "stream",
          "text": [
            "Train ARIMA Error Percent:\n",
            "0.042919042541455586\n",
            "Train LSTM Boosted ARIMA Error Percent:\n",
            "0.077117095751728\n"
          ],
          "name": "stdout"
        }
      ]
    },
    {
      "cell_type": "code",
      "metadata": {
        "id": "q6iC2fECXHui",
        "colab_type": "code",
        "outputId": "f80b80fd-5cc7-4770-9d37-445bdbc6e14b",
        "colab": {
          "base_uri": "https://localhost:8080/",
          "height": 84
        }
      },
      "source": [
        "print('Test ARIMA Square Error:')\n",
        "arima_sqr_error = (full_pred-flight_data.Total)**2\n",
        "print(math.sqrt(arima_sqr_error[-67:].mean()))\n",
        "print('Test LSTM Boosted ARIMA Square Error:')\n",
        "boosted_error = (boosted_predict-flight_data.Total)**2\n",
        "print(math.sqrt(boosted_error[-67:].mean()))"
      ],
      "execution_count": 0,
      "outputs": [
        {
          "output_type": "stream",
          "text": [
            "Test ARIMA Square Error:\n",
            "4907007.725297395\n",
            "Test LSTM Boosted ARIMA Square Error:\n",
            "2156726.8930692878\n"
          ],
          "name": "stdout"
        }
      ]
    },
    {
      "cell_type": "code",
      "metadata": {
        "id": "Pb0cFeHqBwSd",
        "colab_type": "code",
        "outputId": "49ea5e39-44d1-4da3-90c7-524e9b1b7b16",
        "colab": {
          "base_uri": "https://localhost:8080/",
          "height": 84
        }
      },
      "source": [
        "print('Test ARIMA Error Percent:')\n",
        "arima_sqr_error = abs(full_pred-flight_data.Total)/flight_data.Total\n",
        "print(arima_sqr_error[-67:].mean())\n",
        "print('Test LSTM Boosted ARIMA Error Percent:')\n",
        "boosted_error = abs(boosted_predict-flight_data.Total)/flight_data.Total\n",
        "print(boosted_error[-67:].mean())"
      ],
      "execution_count": 0,
      "outputs": [
        {
          "output_type": "stream",
          "text": [
            "Test ARIMA Error Percent:\n",
            "0.046977012798514454\n",
            "Test LSTM Boosted ARIMA Error Percent:\n",
            "0.022888497094896584\n"
          ],
          "name": "stdout"
        }
      ]
    },
    {
      "cell_type": "markdown",
      "metadata": {
        "id": "vOBuNWe7MCG2",
        "colab_type": "text"
      },
      "source": [
        "Currency Data Boosting"
      ]
    },
    {
      "cell_type": "code",
      "metadata": {
        "id": "swAvnG2iMj-g",
        "colab_type": "code",
        "outputId": "23b443d8-0926-4605-ec13-0e8eaad37f8a",
        "colab": {
          "base_uri": "https://localhost:8080/",
          "height": 34
        }
      },
      "source": [
        "def split_sequence(sequence, n_steps):\n",
        "\tX, y = list(), list()\n",
        "\tfor i in range(len(sequence)):\n",
        "\t\tend_ix = i + n_steps\n",
        "\t\tif end_ix > len(sequence)-1:\n",
        "\t\t\tbreak\n",
        "\t\tseq_x, seq_y = sequence[i:end_ix], sequence[end_ix]\n",
        "\t\tX.append(seq_x)\n",
        "\t\ty.append(seq_y)\n",
        "\treturn np.array(X), np.array(y)\n",
        " \n",
        "raw_seq = c_resid\n",
        "n_steps = 4\n",
        "X, y = split_sequence(raw_seq, n_steps)\n",
        "n_features = 1\n",
        "n_seq = 2\n",
        "n_steps = 2\n",
        "X = X.reshape((X.shape[0], n_seq, n_steps, n_features))\n",
        "\n",
        "model = Sequential()\n",
        "model.add(TimeDistributed(Conv1D(filters=64, kernel_size=1, activation='relu'), input_shape=(None, n_steps, n_features)))\n",
        "model.add(TimeDistributed(MaxPooling1D(pool_size=2)))\n",
        "model.add(TimeDistributed(Flatten()))\n",
        "model.add(LSTM(50, activation='relu'))\n",
        "model.add(Dense(1))\n",
        "model.compile(optimizer='rmsprop', loss='mse')\n",
        "\n",
        "model.fit(X, y, epochs=500, verbose=0)"
      ],
      "execution_count": 0,
      "outputs": [
        {
          "output_type": "execute_result",
          "data": {
            "text/plain": [
              "<keras.callbacks.History at 0x7f482b63cac8>"
            ]
          },
          "metadata": {
            "tags": []
          },
          "execution_count": 92
        }
      ]
    },
    {
      "cell_type": "code",
      "metadata": {
        "id": "nEt6ufVzMLre",
        "colab_type": "code",
        "colab": {}
      },
      "source": [
        "x_input = np.array(full_residuals_c[0:4])\n",
        "predict_c = np.array(full_residuals_c[0:4])\n",
        "for i in range(len(full_residuals_c)-4):\n",
        "  x_input_clean = x_input.reshape((1, n_seq, n_steps, n_features))\n",
        "  prediction_c = model.predict(x_input_clean, verbose=0)\n",
        "  predict_c = np.append(predict_c,prediction_c[0][0])\n",
        "  x_input = np.append(x_input[1:],[full_residuals_c[i+4]])\n",
        "boosted_predict_c = full_pred_c.copy()+predict_c"
      ],
      "execution_count": 0,
      "outputs": []
    },
    {
      "cell_type": "code",
      "metadata": {
        "id": "qiBprYqzLNkn",
        "colab_type": "code",
        "outputId": "d6c0f158-d00a-44d5-d2da-77f2b35d6a1c",
        "colab": {
          "base_uri": "https://localhost:8080/",
          "height": 297
        }
      },
      "source": [
        "from google.colab import files\n",
        "\n",
        "fig, ax = plt.subplots()\n",
        "currency_data.DEXUSEU.plot(ax=ax)\n",
        "boosted_predict_c[:-1801].plot(ax=ax)\n",
        "boosted_predict_c[-1801:].plot(ax=ax)\n",
        "\n",
        "sns.despine()\n",
        "plt.title('EURO/US Dollar Exchange Rate')\n",
        "fig.tight_layout()\n",
        "plt.savefig('currency_ARIMA_LSTM.png')\n",
        "files.download(\"currency_ARIMA_LSTM.png\") \n"
      ],
      "execution_count": 0,
      "outputs": [
        {
          "output_type": "display_data",
          "data": {
            "image/png": "[encoded data removed]",
            "text/plain": [
              "<Figure size 432x288 with 1 Axes>"
            ]
          },
          "metadata": {
            "tags": []
          }
        }
      ]
    },
    {
      "cell_type": "code",
      "metadata": {
        "id": "d6Wp01P4gDlD",
        "colab_type": "code",
        "outputId": "627bc6dd-9ae8-4798-f0b4-c9cc077acda3",
        "colab": {
          "base_uri": "https://localhost:8080/",
          "height": 151
        }
      },
      "source": [
        "\n",
        "print('Train ARIMA Square Error:')\n",
        "arima_sqr_error = (full_pred_c-currency_data.DEXUSEU)**2\n",
        "print(arima_sqr_error[:-1801].mean())\n",
        "print('Train LSTM Boosted ARIMA Square Error:')\n",
        "boosted_error = (boosted_predict_c-currency_data.DEXUSEU)**2\n",
        "print(boosted_error[:-1801].mean())\n",
        "\n",
        "print('Train ARIMA Error Percent:')\n",
        "arima_sqr_error = abs(full_pred_c-currency_data.DEXUSEU)/currency_data.DEXUSEU\n",
        "print(arima_sqr_error[:-1801].mean())\n",
        "print('Train LSTM Boosted ARIMA Error Percent:')\n",
        "boosted_error = abs(boosted_predict_c-currency_data.DEXUSEU)/currency_data.DEXUSEU\n",
        "print(boosted_error[:-1801].mean())"
      ],
      "execution_count": 0,
      "outputs": [
        {
          "output_type": "stream",
          "text": [
            "Train ARIMA Square Error:\n",
            "0.0004420111096722625\n",
            "Train LSTM Boosted ARIMA Square Error:\n",
            "0.0015972401181236398\n",
            "Train ARIMA Error Percent:\n",
            "0.004972970655089199\n",
            "Train LSTM Boosted ARIMA Error Percent:\n",
            "0.005803990483037894\n"
          ],
          "name": "stdout"
        }
      ]
    },
    {
      "cell_type": "code",
      "metadata": {
        "id": "H86nwrRsLNhv",
        "colab_type": "code",
        "outputId": "111e6e5b-9dcc-4662-b0a3-5b34d854a7ff",
        "colab": {
          "base_uri": "https://localhost:8080/",
          "height": 151
        }
      },
      "source": [
        "print('Test ARIMA Square Error:')\n",
        "arima_sqr_error = (full_pred_c-currency_data.DEXUSEU)**2\n",
        "print(arima_sqr_error[-1801:].mean())\n",
        "print('Test LSTM Boosted ARIMA Square Error:')\n",
        "boosted_error = (boosted_predict_c-currency_data.DEXUSEU)**2\n",
        "print(boosted_error[-1801:].mean())\n",
        "\n",
        "print('Test ARIMA Error Percent:')\n",
        "arima_sqr_error = abs(full_pred_c-currency_data.DEXUSEU)/currency_data.DEXUSEU\n",
        "print(arima_sqr_error[-1801:].mean())\n",
        "print('Test LSTM Boosted ARIMA Error Percent:')\n",
        "boosted_error = abs(boosted_predict_c-currency_data.DEXUSEU)/currency_data.DEXUSEU\n",
        "print(boosted_error[-1801:].mean())"
      ],
      "execution_count": 0,
      "outputs": [
        {
          "output_type": "stream",
          "text": [
            "Test ARIMA Square Error:\n",
            "0.025335997566629662\n",
            "Test LSTM Boosted ARIMA Square Error:\n",
            "0.023794121497485887\n",
            "Test ARIMA Error Percent:\n",
            "0.12392924060165719\n",
            "Test LSTM Boosted ARIMA Error Percent:\n",
            "0.12036828009482584\n"
          ],
          "name": "stdout"
        }
      ]
    }
  ]
}